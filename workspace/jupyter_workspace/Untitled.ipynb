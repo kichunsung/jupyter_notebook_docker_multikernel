{
 "cells": [
  {
   "cell_type": "code",
   "execution_count": null,
   "metadata": {},
   "outputs": [],
   "source": [
    "print(\"skc\")"
   ]
  },
  {
   "cell_type": "code",
   "execution_count": null,
   "metadata": {},
   "outputs": [],
   "source": []
  }
 ],
 "metadata": {
  "kernelspec": {
   "display_name": "hsmoa_indexer_py3",
   "language": "python",
   "name": "hsmoa_indexer_py3"
  }
 },
 "nbformat": 4,
 "nbformat_minor": 2
}
